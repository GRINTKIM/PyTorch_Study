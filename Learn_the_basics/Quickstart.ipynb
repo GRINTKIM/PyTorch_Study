{
  "nbformat": 4,
  "nbformat_minor": 0,
  "metadata": {
    "colab": {
      "name": "Quickstart.ipynb",
      "provenance": [],
      "collapsed_sections": [],
      "machine_shape": "hm"
    },
    "kernelspec": {
      "name": "python3",
      "display_name": "Python 3"
    },
    "language_info": {
      "name": "python"
    },
    "gpuClass": "standard"
  },
  "cells": [
    {
      "cell_type": "markdown",
      "source": [
        "# Pytorch Quick Start\n",
        "\n",
        "[참고 자료](https://tutorials.pytorch.kr/beginner/basics/quickstart_tutorial.html)"
      ],
      "metadata": {
        "id": "0VFpGazwzcxQ"
      }
    },
    {
      "cell_type": "markdown",
      "source": [
        "## 데이터 불러오기"
      ],
      "metadata": {
        "id": "Pk-ZJgVszV4L"
      }
    },
    {
      "cell_type": "code",
      "source": [
        "import torch\n",
        "from torch import nn\n",
        "from torch.utils.data import DataLoader\n",
        "from torchvision import datasets\n",
        "from torchvision.transforms import ToTensor"
      ],
      "metadata": {
        "id": "6yqznkYVwjP6"
      },
      "execution_count": null,
      "outputs": []
    },
    {
      "cell_type": "code",
      "source": [
        "# 공개 데이터셋에서 학습 데이터를 내려받습니다.\n",
        "training_data = datasets.FashionMNIST(\n",
        "    root=\"data\",\n",
        "    train=True,\n",
        "    download=True,\n",
        "    transform=ToTensor(),\n",
        ")\n",
        "\n",
        "# 공개 데이터셋에서 테스트 데이터를 내려받습니다.\n",
        "test_data = datasets.FashionMNIST(\n",
        "    root=\"data\",\n",
        "    train=False,\n",
        "    download=True,\n",
        "    transform=ToTensor(),\n",
        ")"
      ],
      "metadata": {
        "id": "CHfXHZX5xNZS"
      },
      "execution_count": null,
      "outputs": []
    },
    {
      "cell_type": "code",
      "source": [
        "batch_size = 64\n",
        "\n",
        "# 데이터로더를 생성합니다.\n",
        "train_dataloader = DataLoader(training_data, batch_size=batch_size)\n",
        "test_dataloader = DataLoader(test_data, batch_size=batch_size)\n",
        "\n",
        "for X,y in test_dataloader:\n",
        "    print(f\"Shape of X [N, C, H, W]: {X.shape}\")\n",
        "    print(f\"Shape of y: {y.shape}, {y.dtype}\")\n",
        "    break"
      ],
      "metadata": {
        "colab": {
          "base_uri": "https://localhost:8080/"
        },
        "id": "BI9Jv_SIxwq-",
        "outputId": "86c130c8-36c4-4ccf-a318-95ba39ba91e7"
      },
      "execution_count": null,
      "outputs": [
        {
          "output_type": "stream",
          "name": "stdout",
          "text": [
            "Shape of X [N, C, H, W]: torch.Size([64, 1, 28, 28])\n",
            "Shape of y: torch.Size([64]), torch.int64\n"
          ]
        }
      ]
    },
    {
      "cell_type": "markdown",
      "source": [
        "## 모델 만들기"
      ],
      "metadata": {
        "id": "5klwEcgSzDhI"
      }
    },
    {
      "cell_type": "code",
      "source": [
        "# 학습에 사용할 \"GPU\" 혹은 \"CPU\"\n",
        "device = \"cuda\" if torch.cuda.is_available() else \"cpu\"\n",
        "print(f\"Using {device} device\")"
      ],
      "metadata": {
        "colab": {
          "base_uri": "https://localhost:8080/"
        },
        "id": "wknWBY61zsGQ",
        "outputId": "87244e1e-8a51-48f6-92d7-9c01e0a0504b"
      },
      "execution_count": null,
      "outputs": [
        {
          "output_type": "stream",
          "name": "stdout",
          "text": [
            "Using cpu device\n"
          ]
        }
      ]
    },
    {
      "cell_type": "code",
      "source": [
        "class NeuralNetwork(nn.Module):\n",
        "    def __init__(self):\n",
        "        super(NeuralNetwork, self).__init__()\n",
        "        self.flatten = nn.Flatten()\n",
        "        self.linear_relu_stack = nn.Sequential(\n",
        "            nn.Linear(28*28, 512),\n",
        "            nn.ReLU(),\n",
        "            nn.Linear(512, 512),\n",
        "            nn.ReLU(),\n",
        "            nn.Linear(512, 10)\n",
        "        )\n",
        "\n",
        "    def forward(self, x):\n",
        "        x = self.flatten(x)\n",
        "        logits = self.linear_relu_stack(x)\n",
        "        return logits\n",
        "\n",
        "model = NeuralNetwork().to(device)\n",
        "print(model)"
      ],
      "metadata": {
        "colab": {
          "base_uri": "https://localhost:8080/"
        },
        "id": "TTH0fyX_0WHv",
        "outputId": "4cb0f16f-7e07-497b-df48-fd82e771051b"
      },
      "execution_count": null,
      "outputs": [
        {
          "output_type": "stream",
          "name": "stdout",
          "text": [
            "NeuralNetwork(\n",
            "  (flatten): Flatten(start_dim=1, end_dim=-1)\n",
            "  (linear_relu_stack): Sequential(\n",
            "    (0): Linear(in_features=784, out_features=512, bias=True)\n",
            "    (1): ReLU()\n",
            "    (2): Linear(in_features=512, out_features=512, bias=True)\n",
            "    (3): ReLU()\n",
            "    (4): Linear(in_features=512, out_features=10, bias=True)\n",
            "  )\n",
            ")\n"
          ]
        }
      ]
    },
    {
      "cell_type": "markdown",
      "source": [
        "## 모델 매개변수 최적화하기"
      ],
      "metadata": {
        "id": "oO0-2gKoFYiG"
      }
    },
    {
      "cell_type": "code",
      "source": [
        "loss_fn = nn.CrossEntropyLoss()\n",
        "optimizer = torch.optim.SGD(model.parameters(), lr=1e-3)"
      ],
      "metadata": {
        "id": "KrxHP_mPFcjO"
      },
      "execution_count": null,
      "outputs": []
    },
    {
      "cell_type": "code",
      "source": [
        "def train(dataloader, model, loss_fn, optimizer):\n",
        "    size = len(dataloader.dataset)\n",
        "    for batch, (X, y) in enumerate(dataloader):\n",
        "        X, y = X.to(device), y.to(device)\n",
        "\n",
        "        # 예측 오류 계산\n",
        "        pred = model(X)\n",
        "        loss = loss_fn(pred, y)\n",
        "\n",
        "        # 역전파\n",
        "        optimizer.zero_grad()\n",
        "        loss.backward()\n",
        "        optimizer.step()\n",
        "\n",
        "        if batch % 100 == 0:\n",
        "            loss, current = loss.item(), batch * len(X)\n",
        "            print(f\"loss: {loss:>7f}  [{current:>5d}/{size:>5d}]\")"
      ],
      "metadata": {
        "id": "6qmOtrlxFpkm"
      },
      "execution_count": null,
      "outputs": []
    },
    {
      "cell_type": "code",
      "source": [
        "def test(dataloader, model, loss_fn):\n",
        "    size = len(dataloader.dataset)\n",
        "    num_batches = len(dataloader)\n",
        "    model.eval()\n",
        "    test_loss, correct = 0, 0\n",
        "    with torch.no_grad():\n",
        "        for X, y in dataloader:\n",
        "            X, y = X.to(device), y.to(device)\n",
        "            pred = model(X)\n",
        "            test_loss += loss_fn(pred, y).item()\n",
        "            correct += (pred.argmax(1) == y).type(torch.float).sum().item()\n",
        "    test_loss /= num_batches\n",
        "    correct /= size\n",
        "    print(f\"Test Error: \\n Accuracy: {(100*correct):>0.1f}%, Avg Loss: {test_loss:>8f}\\n\")"
      ],
      "metadata": {
        "id": "YKXqLHd0JD9z"
      },
      "execution_count": null,
      "outputs": []
    },
    {
      "cell_type": "code",
      "source": [
        "epoch = 5\n",
        "\n",
        "for t in range(epoch):\n",
        "    print(f\"Epoch {t+1}\\n-----------------------------------\")\n",
        "    train(train_dataloader, model, loss_fn, optimizer)\n",
        "    test(test_dataloader, model, loss_fn)\n",
        "    print(\"Done!\")"
      ],
      "metadata": {
        "colab": {
          "base_uri": "https://localhost:8080/"
        },
        "id": "uKH5LP4lGk9p",
        "outputId": "b7b45a0a-34df-4dfa-ecb5-4a40ef229f98"
      },
      "execution_count": null,
      "outputs": [
        {
          "output_type": "stream",
          "name": "stdout",
          "text": [
            "Epoch 1\n",
            "-----------------------------------\n",
            "loss: 2.287481  [    0/60000]\n",
            "loss: 2.274586  [ 6400/60000]\n",
            "loss: 2.264658  [12800/60000]\n",
            "loss: 2.269529  [19200/60000]\n",
            "loss: 2.243376  [25600/60000]\n",
            "loss: 2.223769  [32000/60000]\n",
            "loss: 2.230985  [38400/60000]\n",
            "loss: 2.196154  [44800/60000]\n",
            "loss: 2.185959  [51200/60000]\n",
            "loss: 2.186165  [57600/60000]\n",
            "Test Error: \n",
            " Accuracy: 37.3%, Avg Loss: 2.162321\n",
            "\n",
            "Done!\n",
            "Epoch 2\n",
            "-----------------------------------\n",
            "loss: 2.168739  [    0/60000]\n",
            "loss: 2.151661  [ 6400/60000]\n",
            "loss: 2.110581  [12800/60000]\n",
            "loss: 2.131975  [19200/60000]\n",
            "loss: 2.070148  [25600/60000]\n",
            "loss: 2.029129  [32000/60000]\n",
            "loss: 2.050053  [38400/60000]\n",
            "loss: 1.976368  [44800/60000]\n",
            "loss: 1.971907  [51200/60000]\n",
            "loss: 1.927968  [57600/60000]\n",
            "Test Error: \n",
            " Accuracy: 54.5%, Avg Loss: 1.910645\n",
            "\n",
            "Done!\n",
            "Epoch 3\n",
            "-----------------------------------\n",
            "loss: 1.942338  [    0/60000]\n",
            "loss: 1.903055  [ 6400/60000]\n",
            "loss: 1.800855  [12800/60000]\n",
            "loss: 1.842800  [19200/60000]\n",
            "loss: 1.723696  [25600/60000]\n",
            "loss: 1.690175  [32000/60000]\n",
            "loss: 1.700780  [38400/60000]\n",
            "loss: 1.605334  [44800/60000]\n",
            "loss: 1.620212  [51200/60000]\n",
            "loss: 1.535508  [57600/60000]\n",
            "Test Error: \n",
            " Accuracy: 59.6%, Avg Loss: 1.541491\n",
            "\n",
            "Done!\n",
            "Epoch 4\n",
            "-----------------------------------\n",
            "loss: 1.608617  [    0/60000]\n",
            "loss: 1.565326  [ 6400/60000]\n",
            "loss: 1.420463  [12800/60000]\n",
            "loss: 1.492345  [19200/60000]\n",
            "loss: 1.369928  [25600/60000]\n",
            "loss: 1.376537  [32000/60000]\n",
            "loss: 1.379965  [38400/60000]\n",
            "loss: 1.303756  [44800/60000]\n",
            "loss: 1.332700  [51200/60000]\n",
            "loss: 1.251728  [57600/60000]\n",
            "Test Error: \n",
            " Accuracy: 63.0%, Avg Loss: 1.268310\n",
            "\n",
            "Done!\n",
            "Epoch 5\n",
            "-----------------------------------\n",
            "loss: 1.346953  [    0/60000]\n",
            "loss: 1.321665  [ 6400/60000]\n",
            "loss: 1.158951  [12800/60000]\n",
            "loss: 1.262227  [19200/60000]\n",
            "loss: 1.139185  [25600/60000]\n",
            "loss: 1.173222  [32000/60000]\n",
            "loss: 1.183449  [38400/60000]\n",
            "loss: 1.118403  [44800/60000]\n",
            "loss: 1.153454  [51200/60000]\n",
            "loss: 1.087012  [57600/60000]\n",
            "Test Error: \n",
            " Accuracy: 64.8%, Avg Loss: 1.099611\n",
            "\n",
            "Done!\n"
          ]
        }
      ]
    },
    {
      "cell_type": "markdown",
      "source": [
        "## 모델 저장하기"
      ],
      "metadata": {
        "id": "wupEbr6HKX0j"
      }
    },
    {
      "cell_type": "code",
      "source": [
        "torch.save(model.state_dict(), \"model.pth\")\n",
        "print(\"Saved PyTorch Model State to model.pth\")"
      ],
      "metadata": {
        "colab": {
          "base_uri": "https://localhost:8080/"
        },
        "id": "45WLOgXuK328",
        "outputId": "89bd2c18-bf70-4474-af3a-7a9ceb5752c1"
      },
      "execution_count": null,
      "outputs": [
        {
          "output_type": "stream",
          "name": "stdout",
          "text": [
            "Saved PyTorch Model State to model.pth\n"
          ]
        }
      ]
    },
    {
      "cell_type": "markdown",
      "source": [
        "## 모델 불러오기"
      ],
      "metadata": {
        "id": "6nTMZ8_RLGgz"
      }
    },
    {
      "cell_type": "code",
      "source": [
        "model = NeuralNetwork()\n",
        "model.load_state_dict(torch.load(\"model.pth\"))"
      ],
      "metadata": {
        "colab": {
          "base_uri": "https://localhost:8080/"
        },
        "id": "3KlzfJgALKBW",
        "outputId": "f58c3992-61f7-494e-8fb1-5adeb8ca0b93"
      },
      "execution_count": null,
      "outputs": [
        {
          "output_type": "execute_result",
          "data": {
            "text/plain": [
              "<All keys matched successfully>"
            ]
          },
          "metadata": {},
          "execution_count": 12
        }
      ]
    },
    {
      "cell_type": "code",
      "source": [
        "classes = [\n",
        "    \"T-shirt/top\",\n",
        "    \"Trouser\",\n",
        "    \"Pullover\",\n",
        "    \"Dress\",\n",
        "    \"Coat\",\n",
        "    \"Sandal\",\n",
        "    \"Shirt\",\n",
        "    \"Sneaker\",\n",
        "    \"Bag\",\n",
        "    \"Ankle boot\",\n",
        "]\n",
        "\n",
        "model.eval()\n",
        "x, y = test_data[0][0], test_data[0][1]\n",
        "\n",
        "with torch.no_grad():\n",
        "    pred = model(x)\n",
        "    predicted, actual = classes[pred[0].argmax(0)], classes[y]\n",
        "    print(f'Prediced: \"{predicted}\", Actual: \"{actual}\"')"
      ],
      "metadata": {
        "colab": {
          "base_uri": "https://localhost:8080/"
        },
        "id": "buM-22buLR0g",
        "outputId": "cc99d895-7c8d-4072-918b-8e9db9064b7b"
      },
      "execution_count": null,
      "outputs": [
        {
          "output_type": "stream",
          "name": "stdout",
          "text": [
            "Prediced: \"Ankle boot\", Actual: \"Ankle boot\"\n"
          ]
        }
      ]
    }
  ]
}